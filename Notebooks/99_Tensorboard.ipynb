{
 "cells": [
  {
   "cell_type": "code",
   "execution_count": 1,
   "metadata": {},
   "outputs": [
    {
     "name": "stdout",
     "output_type": "stream",
     "text": [
      "No known TensorBoard instances running.\n",
      "/tmp/.tensorboard-info\n"
     ]
    },
    {
     "data": {
      "text/html": [
       "\n",
       "      <iframe id=\"tensorboard-frame-9c28fb1ee3f44d34\" width=\"100%\" height=\"800\" frameborder=\"0\">\n",
       "      </iframe>\n",
       "      <script>\n",
       "        (function() {\n",
       "          const frame = document.getElementById(\"tensorboard-frame-9c28fb1ee3f44d34\");\n",
       "          const url = new URL(\"/\", window.location);\n",
       "          const port = 8889;\n",
       "          if (port) {\n",
       "            url.port = port;\n",
       "          }\n",
       "          frame.src = url;\n",
       "        })();\n",
       "      </script>\n",
       "    "
      ],
      "text/plain": [
       "<IPython.core.display.HTML object>"
      ]
     },
     "metadata": {},
     "output_type": "display_data"
    }
   ],
   "source": [
    "# =========Tensorboard======\n",
    "\n",
    "# ==========================\n",
    "import torch\n",
    "from tensorboard import notebook\n",
    "notebook.list()\n",
    "import tempfile\n",
    "import os\n",
    "import shutil\n",
    "path = os.path.join(tempfile.gettempdir(), \".tensorboard-info\")\n",
    "print(path)\n",
    "#%tensorboard\n",
    "%load_ext tensorboard\n",
    "#%tensorboard --logdir=/home/homingla/Project-NucleicNet/Models/AUCG-9CV --host localhost --port 8887\n",
    "%tensorboard --logdir=/home/homingla/Project-NucleicNet/Models/SXPR-9CV --host localhost --port 8889\n",
    "from IPython.display import HTML"
   ]
  },
  {
   "cell_type": "code",
   "execution_count": 2,
   "metadata": {},
   "outputs": [],
   "source": [
    "%reload_ext tensorboard"
   ]
  }
 ],
 "metadata": {
  "interpreter": {
   "hash": "483da45aec43309c24cf49001fd3be9352115ff3f8b01e51a9517882487d0ea9"
  },
  "kernelspec": {
   "display_name": "Python 3.8.10 64-bit ('Nucl': conda)",
   "language": "python",
   "name": "python3"
  },
  "language_info": {
   "codemirror_mode": {
    "name": "ipython",
    "version": 3
   },
   "file_extension": ".py",
   "mimetype": "text/x-python",
   "name": "python",
   "nbconvert_exporter": "python",
   "pygments_lexer": "ipython3",
   "version": "3.8.10"
  },
  "orig_nbformat": 4
 },
 "nbformat": 4,
 "nbformat_minor": 2
}
